{
  "nbformat": 4,
  "nbformat_minor": 0,
  "metadata": {
    "colab": {
      "name": "SRA Last Project group 29",
      "provenance": [],
      "collapsed_sections": [],
      "include_colab_link": true
    },
    "kernelspec": {
      "name": "python3",
      "display_name": "Python 3"
    }
  },
  "cells": [
    {
      "cell_type": "markdown",
      "metadata": {
        "id": "view-in-github",
        "colab_type": "text"
      },
      "source": [
        "<a href=\"https://colab.research.google.com/github/njr15/covid-19-data/blob/master/SRA_Last_Project_group_29.ipynb\" target=\"_parent\"><img src=\"https://colab.research.google.com/assets/colab-badge.svg\" alt=\"Open In Colab\"/></a>"
      ]
    },
    {
      "cell_type": "code",
      "metadata": {
        "id": "9oCbQMbTHHPF",
        "colab_type": "code",
        "colab": {}
      },
      "source": [
        ""
      ],
      "execution_count": 0,
      "outputs": []
    },
    {
      "cell_type": "markdown",
      "metadata": {
        "id": "GYorj4_FHH38",
        "colab_type": "text"
      },
      "source": [
        "#Final Team Project\n",
        "Nick Russo, Jake Witman, and Brendan Clark"
      ]
    },
    {
      "cell_type": "markdown",
      "metadata": {
        "id": "oUVEv7afHSbQ",
        "colab_type": "text"
      },
      "source": [
        "#Background\n",
        "  The Ebola outbreak in 2014 began in a village outside of Guinea, West Africa, where a case was first discovered in December of 2013. The virus was spread to across the world, forming a global epidemic within weeks. The World Health Organization declared Ebola a global emergency on August 9, 2014. The 2014 Ebola outbreak ended in 2016, with 28,639 cases and 11,316 deaths making it the largest ebola outbreak recorded in history. According to the World Bank’s estimates, this caused a $2.2 billion loss of Gross Demostic Product to Sierra Leone, Guinea, and Liberia.\n",
        "\n",
        "  In December 2019, the Coronavirus outbreak emerged from the city of Wuhan, China and started to spread to over 160 countries in just a couple of months. The World Health Organization named the disease Covid-19 on February 11 and the virus that causes the disease severe acute respiratory syndrome coronavirus 2. Although the World Health Organization declared the pandemic as a public health emergency of local concern in China, the fast spread to other countries led to the declaration of an emergency of global concern on 31 January.\n",
        "\n",
        "Like Ebola, Covid-19 is a family disease, in the sense that many infections occur in the home. Restrictions on travel can slow the spread of the disease, but it also helps if individuals and families understand infection pathways and implement domestic precautions. This is something that people in West Africa  that were confronted by Ebola learned through experience.\n",
        "\n"
      ]
    },
    {
      "cell_type": "markdown",
      "metadata": {
        "id": "4W2QLiS8HYjU",
        "colab_type": "text"
      },
      "source": [
        "#Goal\n",
        "The goal of our project was to highlight and display the differences between Corona and Ebola cases and deaths on the countries that were hit the hardest by Ebola back in 2014- 2016."
      ]
    },
    {
      "cell_type": "markdown",
      "metadata": {
        "id": "xd7ENJwVHeiQ",
        "colab_type": "text"
      },
      "source": [
        "#Assumptions"
      ]
    },
    {
      "cell_type": "markdown",
      "metadata": {
        "id": "3KeMpVL-CkA_",
        "colab_type": "text"
      },
      "source": [
        "Ebola was mostly in African countries.\n",
        "\n",
        "Ebola was one of the most dangerous modern outbreaks.\n",
        "\n",
        "The coronavirus pandemic is unprecedented in the modern world.\n",
        "\n",
        "COVID-19 is more infectious than ebola.\n",
        "\n",
        "Ebola had a higher mortality rate than COVID-19.\n",
        "\n",
        "Places with higher population density have sufferd worse from COVID-19.\n",
        "\n",
        "Diseases such as these have a higher chance of starting in areas with worse medical preparation.\n",
        "\n",
        "Africa hasn't been hit hard by COVID-19.\n",
        "\n",
        "COVID-19 spread alot quicker than Ebola.\n",
        "\n",
        "The world wasn't as preapred for COVID-19 as they were for Ebola.\n",
        "\n"
      ]
    },
    {
      "cell_type": "markdown",
      "metadata": {
        "id": "S1tqrZd6HhFe",
        "colab_type": "text"
      },
      "source": [
        "#Data Sources\n",
        "**Ebola 2014 - 2016 Outbreak- Devakumar**\n",
        "\n",
        "https://www.kaggle.com/imdevskp/ebola-outbreak-20142016-complete-dataset\n",
        "\n",
        "I selected this source on Kaggle because it showed alot of information from th entire Ebola outbreak and did a good job highlighting and displaying the numbers I was looking for. I knew Ebola wold be an interesting thing to comapre with this new pandemic since it is a disease many people are familiar with.\n",
        "\n",
        "**Coronavirus Disease (Covid-19) - Max Roser (Our world in data)**\n",
        "\n",
        "I Selected this source from the website \"Our World in Data\". It displayed all the updated coronavirus information and I was able to find the total confirmed death and confirmed cases for the same countries affected by Ebola.\n",
        "\n",
        "https://ourworldindata.org/coronavirus\n",
        "\n",
        "Once I had both sets of data I added ID's to each dataset and inner joined them to display the comparison between total deaths between the two diseases on one sheet and the total confirmed cases between the two disieases on a second sheet. We used the countries that were hit the hardest by ebola to compare and see how hard they are getting hit now. These countries were Guinea, Italy, United States, Liberia, Mali, Nigeria, Senegal, Sierra Leon, Spain, and the United Kingdom.\n"
      ]
    },
    {
      "cell_type": "code",
      "metadata": {
        "id": "AsjELot5Jo6r",
        "colab_type": "code",
        "outputId": "b63066fd-d9d2-4275-e252-e993ec4a8321",
        "colab": {
          "base_uri": "https://localhost:8080/",
          "height": 744
        }
      },
      "source": [
        "import IPython\n",
        "IPython.display.HTML(\"<div class='tableauPlaceholder' id='viz1587496204588' style='position: relative'><noscript><a href='#'><img alt=' ' src='https:&#47;&#47;public.tableau.com&#47;static&#47;images&#47;La&#47;Lastprojectsra&#47;Dashboard2&#47;1_rss.png' style='border: none' /></a></noscript><object class='tableauViz'  style='display:none;'><param name='host_url' value='https%3A%2F%2Fpublic.tableau.com%2F' /> <param name='embed_code_version' value='3' /> <param name='site_root' value='' /><param name='name' value='Lastprojectsra&#47;Dashboard2' /><param name='tabs' value='no' /><param name='toolbar' value='yes' /><param name='static_image' value='https:&#47;&#47;public.tableau.com&#47;static&#47;images&#47;La&#47;Lastprojectsra&#47;Dashboard2&#47;1.png' /> <param name='animate_transition' value='yes' /><param name='display_static_image' value='yes' /><param name='display_spinner' value='yes' /><param name='display_overlay' value='yes' /><param name='display_count' value='yes' /><param name='filter' value='publish=yes' /></object></div>                <script type='text/javascript'>                    var divElement = document.getElementById('viz1587496204588');                    var vizElement = divElement.getElementsByTagName('object')[0];                    if ( divElement.offsetWidth > 800 ) { vizElement.style.width='1000px';vizElement.style.height='827px';} else if ( divElement.offsetWidth > 500 ) { vizElement.style.width='1000px';vizElement.style.height='827px';} else { vizElement.style.width='100%';vizElement.style.height='727px';}                     var scriptElement = document.createElement('script');                    scriptElement.src = 'https://public.tableau.com/javascripts/api/viz_v1.js';                    vizElement.parentNode.insertBefore(scriptElement, vizElement);                </script>\")"
      ],
      "execution_count": 0,
      "outputs": [
        {
          "output_type": "execute_result",
          "data": {
            "text/html": [
              "<div class='tableauPlaceholder' id='viz1587496204588' style='position: relative'><noscript><a href='#'><img alt=' ' src='https:&#47;&#47;public.tableau.com&#47;static&#47;images&#47;La&#47;Lastprojectsra&#47;Dashboard2&#47;1_rss.png' style='border: none' /></a></noscript><object class='tableauViz'  style='display:none;'><param name='host_url' value='https%3A%2F%2Fpublic.tableau.com%2F' /> <param name='embed_code_version' value='3' /> <param name='site_root' value='' /><param name='name' value='Lastprojectsra&#47;Dashboard2' /><param name='tabs' value='no' /><param name='toolbar' value='yes' /><param name='static_image' value='https:&#47;&#47;public.tableau.com&#47;static&#47;images&#47;La&#47;Lastprojectsra&#47;Dashboard2&#47;1.png' /> <param name='animate_transition' value='yes' /><param name='display_static_image' value='yes' /><param name='display_spinner' value='yes' /><param name='display_overlay' value='yes' /><param name='display_count' value='yes' /><param name='filter' value='publish=yes' /></object></div>                <script type='text/javascript'>                    var divElement = document.getElementById('viz1587496204588');                    var vizElement = divElement.getElementsByTagName('object')[0];                    if ( divElement.offsetWidth > 800 ) { vizElement.style.width='1000px';vizElement.style.height='827px';} else if ( divElement.offsetWidth > 500 ) { vizElement.style.width='1000px';vizElement.style.height='827px';} else { vizElement.style.width='100%';vizElement.style.height='727px';}                     var scriptElement = document.createElement('script');                    scriptElement.src = 'https://public.tableau.com/javascripts/api/viz_v1.js';                    vizElement.parentNode.insertBefore(scriptElement, vizElement);                </script>"
            ],
            "text/plain": [
              "<IPython.core.display.HTML object>"
            ]
          },
          "metadata": {
            "tags": []
          },
          "execution_count": 1
        }
      ]
    },
    {
      "cell_type": "markdown",
      "metadata": {
        "id": "p0bkUOhHHvLK",
        "colab_type": "text"
      },
      "source": [
        "#Conclusion"
      ]
    },
    {
      "cell_type": "markdown",
      "metadata": {
        "id": "5SQd5P7qOK69",
        "colab_type": "text"
      },
      "source": [
        "Our original goal was to compare the current COVID-19 outbreak to one of the more renowned diseases of the modern era, Ebola. We wanted to compare some of the case and death statistics to help judge the two diseases against each other, and accurately assess the danger that each one poses to humans relative to one another. One of the core factors that the comparison of these data sets revolves around is the assumption that the COVID-19 coronavirus is not as dangerous as the Ebola virus. This is a major reason why we chose to compare these two diseases in the first place. This assumption is largely driven by the mortality rate for the two diseases because this is a piece of data that is readily available and easy for people to understand. Ro (pronounced row) is the other crucial piece of data that interacts with the mortality rate to truly form a picture of how dangerous the disease is. Ro is an estimation of how infectious a disease is, and while the coronavirus does not kill as high of a percentage of its victims, it has a massively higher Ro, meaning it spreads much further much faster. This can be seen quite easily in our data, where Ebola had a large amount deaths within the select few countries where the outbreak occurred in Africa, especially when compared to the number of cases. However, Ebola never gained a real foothold in the rest of the world and was never classified as a pandemic, meaning the threat was localized. \n",
        "\n",
        "We learned that both diseases have certain differences that make them dangerous, but also possessed some similarities that were reflected in how dangerous they are both considered to be. For instance, Ebola has a much higher mortality rate than COVID-19, and was basically impossible to treat even with a medical system equipped to handle the outbreak. On the other side, COVID-19 does not have as high of a mortality rate, and in fact many people have likely contracted the virus and were asymptomatic, meaning they suffered no ill effects and likely never knew they even had it. However, the danger of the coronavirus lies in it being extremely transmissible, which is why it now has recorded cases in nearly every country around the globe. The asymptomatic factor of the disease makes super spreaders a possibility, meaning people could spread the disease to hundreds of other people without even knowing they are sick. This rapidly enhanced the growth rate of an already easily transmissible disease, which is why it has been able to do what Ebola could not, and infect people all around the globe. The viruses did share a common characteristic, in that they were both unique enough that they were not easily treatable by established medications and a vaccination did not exist. This is partially what fuels the large mortality rates for both diseases, as medical professionals race to find the most effective way to treat the disease while the outbreak is already in progress. \n",
        "\n",
        "We have come to the conclusion that COVID-19 is in fact the more dangerous virus and these lock downs we are currently experiencing are in fact necessary. The disease is remarkably transmissible, making it extremely hard for healthcare providers around the world to struggle to keep up with rapidly increasing case loads."
      ]
    }
  ]
}